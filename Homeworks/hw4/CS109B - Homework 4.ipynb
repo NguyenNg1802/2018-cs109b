{
 "cells": [
  {
   "cell_type": "markdown",
   "metadata": {},
   "source": [
    "# Homework 4 - Scalability\n",
    "\n",
    "## CS109B / Stats 121 / AC209B / CSCI E109B\n",
    "\n",
    "CS109b Staff\n",
    "\n",
    "March 8, 2018"
   ]
  },
  {
   "cell_type": "markdown",
   "metadata": {},
   "source": [
    " ### Enter which version of the course you are enrolled in: \n",
    " "
   ]
  },
  {
   "cell_type": "markdown",
   "metadata": {},
   "source": [
    " <span style=\"color:blue\">\n",
    "I am enrolled in (e.g. CS109B, AC209)\n",
    " </span>"
   ]
  },
  {
   "cell_type": "markdown",
   "metadata": {},
   "source": [
    "The purpose of this homework is get familiar with scalability and parallelization. \n",
    "\n",
    "There are three items to submit:\n",
    "\n",
    "1. Via Canvas, this populated Jupyter notebook (.ipynb) file\n",
    "2. Via Canvas, this populated notebook converted to PDF (for inline grading notes)\n",
    "3. Anonymously share your performance results via this Google form [https://goo.gl/forms/EVrnxj2pzndZvNX22](https://goo.gl/forms/EVrnxj2pzndZvNX22)"
   ]
  },
  {
   "cell_type": "markdown",
   "metadata": {},
   "source": [
    "## Part 1 - Theory\n",
    "\n",
    "(a) 30% of your application can be parallelized. It takes 56 seconds to run on your single processor laptop, but only 42 seconds to run on your friend's beefy desktop. How many processors does your friend's machine have? Show your work."
   ]
  },
  {
   "cell_type": "markdown",
   "metadata": {},
   "source": [
    "\n",
    " <span style=\"color:blue\">\n",
    "answer goes here... \n",
    " </span>"
   ]
  },
  {
   "cell_type": "markdown",
   "metadata": {},
   "source": [
    "(b) The NVIDIA Telsa K80 in your JupyterHub instances has 4992 cores ([source](http://www.nvidia.com/object/tesla-k80.html)). You have to perform a very large matrix multiplication. Explain what factors would prevent the operation from occurring about 5000 times faster than running the same operation on a single CPU machine. What are the bottlenecks? "
   ]
  },
  {
   "cell_type": "markdown",
   "metadata": {},
   "source": [
    "<span style=\"color:blue\">\n",
    "answer goes here... \n",
    " </span>"
   ]
  },
  {
   "cell_type": "markdown",
   "metadata": {},
   "source": [
    "## Part 2 - Coding\n",
    "\n",
    "In this part, we are going to experiment with having code execute in parallel on multiple cores. Let's first determine how many cores a given machine has.\n",
    "\n",
    "You can run this code on your local machine or on your JupterHub instance. Either is fine.\n",
    "\n",
    "### 2.1 Setup"
   ]
  },
  {
   "cell_type": "code",
   "execution_count": 1,
   "metadata": {
    "collapsed": true
   },
   "outputs": [],
   "source": [
    "from multiprocessing import Process\n",
    "from multiprocessing import cpu_count\n",
    "import numpy as np\n",
    "import time\n",
    "import random"
   ]
  },
  {
   "cell_type": "code",
   "execution_count": 2,
   "metadata": {},
   "outputs": [
    {
     "data": {
      "text/plain": [
       "8"
      ]
     },
     "execution_count": 2,
     "metadata": {},
     "output_type": "execute_result"
    }
   ],
   "source": [
    "cpu_count()"
   ]
  },
  {
   "cell_type": "markdown",
   "metadata": {},
   "source": [
    "Every major operating system (MacOS, Windows, Linux) have a means of monitoring CPU utilization across cores.\n",
    "\n",
    "For MacOS, open `Activity Monitor`, and select CPU usage\n",
    "\n",
    "For MS-Windows, open `Task Manager`, and look at the performance tab\n",
    "\n",
    "For Linux, there is the command line `top` command, or for Ubuntu, use `System Monitor`\n",
    "\n",
    "Verify that the number of cores shown in the appropriate tool corresponds to the number of processors shown above. Leave the CPU monitor window open as it will be used in the subsequent exercises.\n",
    "\n",
    "**Optional advanced**: your machine may have only half the physical cores listed above. For example, on MacOS, if you go to `Apple` / `About This Mac` / `System Report` only four physical cores could be listed instead of the reported eight. This is due to [hyperthreading](https://en.wikipedia.org/wiki/Hyper-threading). See also [Optimizing Cores](https://macperformanceguide.com/Optimizing-Cores.html)\n",
    "\n",
    "How many processors are reported above? Does it match what your OS is saying? "
   ]
  },
  {
   "cell_type": "markdown",
   "metadata": {},
   "source": [
    "<span style=\"color:blue\">\n",
    "answer goes here... \n",
    " </span>"
   ]
  },
  {
   "cell_type": "markdown",
   "metadata": {},
   "source": [
    "### 2.2 Sequential Operations\n",
    "\n",
    "Here we are going to write some Python that executes in parallel across multiple cores. Specifically, we are going to implement prime factorization in regular Python that operates in parallel across multiple cores.\n",
    "\n",
    "First, let's look at the sequential version:"
   ]
  },
  {
   "cell_type": "code",
   "execution_count": 3,
   "metadata": {
    "collapsed": true
   },
   "outputs": [],
   "source": [
    "from sympy import sieve\n",
    "MAX_NUM = 1000000\n",
    "PRIMES = list(sieve.primerange(2,MAX_NUM // 2 + 1))\n",
    "\n",
    "\n",
    "# the number of composite numbers to factor\n",
    "N = 100"
   ]
  },
  {
   "cell_type": "code",
   "execution_count": 4,
   "metadata": {
    "collapsed": true
   },
   "outputs": [],
   "source": [
    "def calculatePrimeFactors(n):\n",
    "    primfac = []\n",
    "    d = 2\n",
    "    while d*d <= n:\n",
    "        while (n % d) == 0:\n",
    "            primfac.append(d)  # supposing you want multiple factors repeated\n",
    "            n //= d\n",
    "        d += 1 \n",
    "    if n > 1:\n",
    "        primfac.append(n)\n",
    "    return primfac"
   ]
  },
  {
   "cell_type": "code",
   "execution_count": 9,
   "metadata": {},
   "outputs": [
    {
     "name": "stdout",
     "output_type": "stream",
     "text": [
      "Starting number crunching\n",
      "[117889, 216397]\n",
      "[134731, 438721]\n",
      "[274579, 330839]\n",
      "[138283, 414611]\n",
      "[91969, 232103]\n",
      "[122323, 481807]\n",
      "[277021, 396413]\n",
      "[12893, 184447]\n",
      "[152959, 433141]\n",
      "[11243, 181549]\n",
      "Execution Time: 3.847149133682251\n"
     ]
    }
   ],
   "source": [
    "print(\"Starting number crunching\")\n",
    "t0 = time.time()\n",
    "for i in range(N):\n",
    "    rand = random.choice(PRIMES) * random.choice(PRIMES) \n",
    "    factors = calculatePrimeFactors(rand)\n",
    "    if (i % (N//10) == 0):\n",
    "        print(factors)\n",
    "t1 = time.time()\n",
    "totalTime = t1 - t0\n",
    "print(\"Execution Time: {}\".format(totalTime))"
   ]
  },
  {
   "cell_type": "markdown",
   "metadata": {},
   "source": [
    "\n",
    "Now, change the line `N = 100` above so the sequential version takes at least a few seconds to run. Increase by orders of magnitude. You may need a value of `N = 1000` on a recent MacBook for example.\n",
    "\n",
    "What value of N did you choose and how long did it take to run?"
   ]
  },
  {
   "cell_type": "markdown",
   "metadata": {},
   "source": [
    "<span style=\"color:blue\">\n",
    "answer goes here... \n",
    " </span>"
   ]
  },
  {
   "cell_type": "markdown",
   "metadata": {},
   "source": [
    "### 2.3 Parallel Operations\n",
    "\n",
    "Let's run in parallel across multiple CPUs."
   ]
  },
  {
   "cell_type": "code",
   "execution_count": 6,
   "metadata": {
    "collapsed": true
   },
   "outputs": [],
   "source": [
    "# the number of concurrent processors to use\n",
    "nProc = 2"
   ]
  },
  {
   "cell_type": "code",
   "execution_count": 10,
   "metadata": {
    "collapsed": true
   },
   "outputs": [],
   "source": [
    "# Now let's run it concurrently\n",
    "def executeProc():\n",
    "    # Each process is performing a fraction of the load\n",
    "    # so it has less numbers to factor\n",
    "    myN = N // nProc\n",
    "    for i in range(myN):\n",
    "        rand = random.choice(PRIMES) * random.choice(PRIMES) \n",
    "        factors = calculatePrimeFactors(rand)\n",
    "        if (i % (myN // 10 * nProc) == 0):\n",
    "            print(factors)        "
   ]
  },
  {
   "cell_type": "code",
   "execution_count": 11,
   "metadata": {},
   "outputs": [
    {
     "name": "stdout",
     "output_type": "stream",
     "text": [
      "[171917, 436147]\n",
      "[368773, 417493]\n",
      "[65867, 252869]\n",
      "[225781, 320057]\n",
      "[101267, 475729]\n",
      "[69233, 406481]\n",
      "[41023, 131111]\n",
      "[310361, 374729]\n",
      "[62143, 224717]\n",
      "[19489, 148891]\n",
      "Execution Time: 1.92368483543396\n"
     ]
    }
   ],
   "source": [
    "t0 = time.time()\n",
    "procs = []\n",
    "# Here we create our processes and kick them off\n",
    "for i in range(nProc):\n",
    "    proc = Process(target=executeProc, args=())\n",
    "    procs.append(proc)\n",
    "    proc.start()\n",
    "# We use the .join() method in order to wait for\n",
    "# execution to finish for all of our processes\n",
    "for proc in procs:\n",
    "    proc.join()\n",
    "t1 = time.time()\n",
    "totalTime = t1 - t0\n",
    "# we print out the total execution time for our 10\n",
    "# procs.\n",
    "print(\"Execution Time: {}\".format(totalTime))"
   ]
  },
  {
   "cell_type": "markdown",
   "metadata": {},
   "source": [
    "Now, change the line `nProc = 2` above so we use more parallel processors. Increase by 1 or 2 at a time. You may need a value of `nProc = 10` on a recent MacBook for example. Modify the code above to keep track of execution time by number of processes.\n",
    "\n",
    "What value of nProc produced the fastest time?  "
   ]
  },
  {
   "cell_type": "markdown",
   "metadata": {},
   "source": [
    "<span style=\"color:blue\">\n",
    "answer goes here... \n",
    " </span>"
   ]
  },
  {
   "cell_type": "markdown",
   "metadata": {},
   "source": [
    "### 2.4 - Plotting and Interpretation\n",
    "\n",
    "(a) Plot the execution time vs number of processes from 1 to nProc + 4 (ie. if nProc == 10 was optimal, plot from 1 to 14 processes). "
   ]
  },
  {
   "cell_type": "code",
   "execution_count": 12,
   "metadata": {
    "collapsed": true
   },
   "outputs": [],
   "source": [
    "# Your code and plot here"
   ]
  },
  {
   "cell_type": "markdown",
   "metadata": {},
   "source": [
    "(b) According to your OS's CPU monitor, were all cores in use?"
   ]
  },
  {
   "cell_type": "markdown",
   "metadata": {},
   "source": [
    "<span style=\"color:blue\">\n",
    "answer goes here... \n",
    " </span>"
   ]
  },
  {
   "cell_type": "markdown",
   "metadata": {},
   "source": [
    "(c) Why was this optimal based on the number of cores that you have? Why does a higher number of processes not speed things up? How many physical cores do you suspect your machine has vs the number reported by `cpu_count()` in 2.1?"
   ]
  },
  {
   "cell_type": "markdown",
   "metadata": {},
   "source": [
    "<span style=\"color:blue\">\n",
    "answer goes here... \n",
    " </span>"
   ]
  },
  {
   "cell_type": "markdown",
   "metadata": {},
   "source": [
    "### Part 3 - AC209 Problem\n",
    "\n",
    "Implement prime factorization using `numpy`.\n",
    "\n",
    "Hint: the book Numpy Cookbook available through Hollis may help you.\n",
    "\n",
    "Use your function and the same number of `N` sequential cases as above. Time the result.\n",
    "\n",
    "* How long did numpy take vs the sequential and parallel versions?\n",
    "* Was your implementation faster than numpy?\n",
    "* Was numpy using multiple cores or not?\n",
    "\n",
    "**For all students:**\n",
    "Don't forget to post your results to  [https://goo.gl/forms/EVrnxj2pzndZvNX22](https://goo.gl/forms/EVrnxj2pzndZvNX22)"
   ]
  },
  {
   "cell_type": "code",
   "execution_count": null,
   "metadata": {
    "collapsed": true
   },
   "outputs": [],
   "source": []
  }
 ],
 "metadata": {
  "kernelspec": {
   "display_name": "Python 3",
   "language": "python",
   "name": "python3"
  },
  "language_info": {
   "codemirror_mode": {
    "name": "ipython",
    "version": 3
   },
   "file_extension": ".py",
   "mimetype": "text/x-python",
   "name": "python",
   "nbconvert_exporter": "python",
   "pygments_lexer": "ipython3",
   "version": "3.6.2"
  }
 },
 "nbformat": 4,
 "nbformat_minor": 2
}
