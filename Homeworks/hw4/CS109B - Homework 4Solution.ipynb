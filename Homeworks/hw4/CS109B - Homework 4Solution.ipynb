{
 "cells": [
  {
   "cell_type": "markdown",
   "metadata": {},
   "source": [
    "# Homework 4 - Scalability\n",
    "\n",
    "## CS109B / Stats 121 / AC209B / CSCI E109B\n",
    "\n",
    "CS109b Staff\n",
    "\n",
    "March 8, 2018"
   ]
  },
  {
   "cell_type": "markdown",
   "metadata": {},
   "source": [
    " ### Enter which version of the course you are enrolled in: \n",
    " "
   ]
  },
  {
   "cell_type": "markdown",
   "metadata": {},
   "source": [
    " <span style=\"color:blue\">\n",
    "I am enrolled in AC209\n",
    " </span>"
   ]
  },
  {
   "cell_type": "markdown",
   "metadata": {},
   "source": [
    "The purpose of this homework is get familiar with scalability and parallelization. \n",
    "\n",
    "There are three items to submit:\n",
    "\n",
    "1. Via Canvas, this populated Jupyter notebook (.ipynb) file\n",
    "2. Via Canvas, this populated notebook converted to PDF (for inline grading notes)\n",
    "3. Anonymously share your performance results via this Google form [https://goo.gl/forms/EVrnxj2pzndZvNX22](https://goo.gl/forms/EVrnxj2pzndZvNX22)"
   ]
  },
  {
   "cell_type": "markdown",
   "metadata": {},
   "source": [
    "## Part 1 - Theory\n",
    "\n",
    "(a) 30% of your application can be parallelized. It takes 56 seconds to run on your single processor laptop, but only 42 seconds to run on your friend's beefy desktop. How many processors does your friend's machine have? Show your work."
   ]
  },
  {
   "cell_type": "markdown",
   "metadata": {},
   "source": [
    "\n",
    " <div style=\"color:blue\">\n",
    "\n",
    "This uses Amdahl's law:\n",
    "$$S_{\\text{latency}} (s) = \\frac{1}{(1-p) + \\frac{p}{s}}$$\n",
    "\n",
    "$p = 0.3$<br>\n",
    "\n",
    "$S_{\\text{latency}} = \\frac{56}{42} \\approx 1.33$<br>\n",
    "\n",
    "Substituting in and solving, $s=6$\n",
    "\n",
    "<br>There are 6 processors on my friend's machine. \n",
    "\n",
    " </div>"
   ]
  },
  {
   "cell_type": "markdown",
   "metadata": {},
   "source": [
    "(b) The NVIDIA Telsa K80 in your JupyterHub instances has 4992 cores ([source](http://www.nvidia.com/object/tesla-k80.html)). You have to perform a very large matrix multiplication. Explain what factors would prevent the operation from occurring about 5000 times faster than running the same operation on a single CPU machine. What are the bottlenecks? "
   ]
  },
  {
   "cell_type": "markdown",
   "metadata": {},
   "source": [
    "<span style=\"color:blue\">\n",
    "We are looking for at least three of the following reasons:\n",
    "\n",
    "* There is overhead in setting up the matrix in memory and invoking the GPU\n",
    "* The very large matrices may involve more than 5000 elements so there aren't enough processors to handle all matrix elements in parallel.\n",
    "* The software library in use may not parallelize adequately across all cores.\n",
    "* Some multiplication operations may finish faster than others (e.g. $x_{i,j} \\times 0$) so not all cores will take the same time.\n",
    " </span>"
   ]
  },
  {
   "cell_type": "markdown",
   "metadata": {},
   "source": [
    "## Part 2 - Coding\n",
    "\n",
    "In this part, we are going to experiment with having code execute in parallel on multiple cores. Let's first determine how many cores a given machine has.\n",
    "\n",
    "You can run this code on your local machine or on your JupterHub instance. Either is fine.\n",
    "\n",
    "### 2.1 Setup"
   ]
  },
  {
   "cell_type": "code",
   "execution_count": 1,
   "metadata": {
    "collapsed": true
   },
   "outputs": [],
   "source": [
    "from multiprocessing import Process\n",
    "from multiprocessing import cpu_count\n",
    "import numpy as np\n",
    "import time\n",
    "import random"
   ]
  },
  {
   "cell_type": "code",
   "execution_count": 2,
   "metadata": {},
   "outputs": [
    {
     "data": {
      "text/plain": [
       "8"
      ]
     },
     "execution_count": 2,
     "metadata": {},
     "output_type": "execute_result"
    }
   ],
   "source": [
    "cpu_count()"
   ]
  },
  {
   "cell_type": "markdown",
   "metadata": {},
   "source": [
    "Every major operating system (MacOS, Windows, Linux) have a means of monitoring CPU utilization across cores.\n",
    "\n",
    "For MacOS, open `Activity Monitor`, and select CPU usage\n",
    "\n",
    "For MS-Windows, open `Task Manager`, and look at the performance tab\n",
    "\n",
    "For Linux, there is the command line `top` command, or for Ubuntu, use `System Monitor`\n",
    "\n",
    "Verify that the number of cores shown in the appropriate tool corresponds to the number of processors shown above. Leave the CPU monitor window open as it will be used in the subsequent exercises.\n",
    "\n",
    "**Optional advanced**: your machine may have only half the physical cores listed above. For example, on MacOS, if you go to `Apple` / `About This Mac` / `System Report` only four physical cores could be listed instead of the reported eight. This is due to [hyperthreading](https://en.wikipedia.org/wiki/Hyper-threading). See also [Optimizing Cores](https://macperformanceguide.com/Optimizing-Cores.html)\n",
    "\n",
    "How many processors are reported above? Does it match what your OS is saying? "
   ]
  },
  {
   "cell_type": "markdown",
   "metadata": {},
   "source": [
    "<span style=\"color:blue\">\n",
    "8, yes. \n",
    " </span>"
   ]
  },
  {
   "cell_type": "markdown",
   "metadata": {},
   "source": [
    "### 2.2 Sequential Operations\n",
    "\n",
    "Here we are going to write some Python that executes in parallel across multiple cores. Specifically, we are going to implement prime factorization in regular Python that operates in parallel across multiple cores.\n",
    "\n",
    "First, let's look at the sequential version:"
   ]
  },
  {
   "cell_type": "code",
   "execution_count": 20,
   "metadata": {},
   "outputs": [
    {
     "name": "stdout",
     "output_type": "stream",
     "text": [
      "Starting number crunching\n",
      "[203947, 264053]\n",
      "[324301, 376933]\n",
      "[200513, 453797]\n",
      "[21407, 178249]\n",
      "[49261, 152729]\n",
      "[32441, 42089]\n",
      "[323149, 382867]\n",
      "[273433, 440581]\n",
      "[409573, 498259]\n",
      "[12007, 369739]\n",
      "Execution Time: 125.8063850402832\n"
     ]
    }
   ],
   "source": [
    "from sympy import sieve\n",
    "MAX_NUM = 1000000\n",
    "PRIMES = list(sieve.primerange(2,MAX_NUM // 2 + 1))\n",
    "\n",
    "\n",
    "# the number of composite numbers to factor\n",
    "N = 3000\n",
    "\n",
    "def calculatePrimeFactors(n):\n",
    "    primfac = []\n",
    "    d = 2\n",
    "    while d*d <= n:\n",
    "        while (n % d) == 0:\n",
    "            primfac.append(d)  # supposing you want multiple factors repeated\n",
    "            n //= d\n",
    "        d += 1 \n",
    "    if n > 1:\n",
    "        primfac.append(n)\n",
    "    return primfac\n",
    "\n",
    "\n",
    "print(\"Starting number crunching\")\n",
    "t0 = time.time()\n",
    "for i in range(N):\n",
    "    rand = random.choice(PRIMES) * random.choice(PRIMES) \n",
    "    \n",
    "    factors = calculatePrimeFactors(rand)\n",
    "    if (i % (N//10) == 0):\n",
    "        print(factors)\n",
    "t1 = time.time()\n",
    "totalTime = t1 - t0\n",
    "print(\"Execution Time: {}\".format(totalTime))\n"
   ]
  },
  {
   "cell_type": "markdown",
   "metadata": {},
   "source": [
    "\n",
    "Now, change the line `N = 100` above so the sequential version takes at least a few seconds to run. Increase by orders of magnitude. You may need a value of `N = 1000` on a recent MacBook for example.\n",
    "\n",
    "What value of N did you choose and how long did it take to run?"
   ]
  },
  {
   "cell_type": "markdown",
   "metadata": {},
   "source": [
    "<span style=\"color:blue\">\n",
    "When N=3000, it took about 125.81 seconds\n",
    " </span>\n",
    " \n"
   ]
  },
  {
   "cell_type": "markdown",
   "metadata": {},
   "source": [
    "### 2.3 Parallel Operations\n",
    "\n",
    "Let's run in parallel across multiple CPUs."
   ]
  },
  {
   "cell_type": "code",
   "execution_count": 21,
   "metadata": {},
   "outputs": [
    {
     "name": "stdout",
     "output_type": "stream",
     "text": [
      "[46889, 447749]\n",
      "[172169, 393079]\n",
      "[139891, 292133]\n",
      "[36563, 296713]\n",
      "[157543, 274661]\n",
      "[145283, 449249]\n",
      "[87427, 118409]\n",
      "[197971, 496913]\n",
      "[199399, 371291]\n",
      "[76367, 387857]\n",
      "Execution Time: 61.732853174209595\n"
     ]
    }
   ],
   "source": [
    "# the number of concurrent processors to use\n",
    "nProc = 2\n",
    "\n",
    "# Now let's run it concurrently\n",
    "def executeProc():\n",
    "    # Each process is performing a fraction of the load\n",
    "    # so it has less numbers to factor\n",
    "    myN = N // nProc\n",
    "    for i in range(myN):\n",
    "        #rand = random.randint(20000, 100000000)\n",
    "        rand = random.choice(PRIMES) * random.choice(PRIMES) \n",
    "        \n",
    "        factors = calculatePrimeFactors(rand)\n",
    "        if (i % (myN // 10 * nProc) == 0):\n",
    "            print(factors)        \n",
    "\n",
    "\n",
    "t0 = time.time()\n",
    "procs = []\n",
    "# Here we create our processes and kick them off\n",
    "for i in range(nProc):\n",
    "    proc = Process(target=executeProc, args=())\n",
    "    procs.append(proc)\n",
    "    proc.start()\n",
    "# We use the .join() method in order to wait for\n",
    "# execution to finish for all of our processes\n",
    "for proc in procs:\n",
    "    proc.join()\n",
    "t1 = time.time()\n",
    "totalTime = t1 - t0\n",
    "# we print out the total execution time for our 10\n",
    "# procs.\n",
    "print(\"Execution Time: {}\".format(totalTime))           "
   ]
  },
  {
   "cell_type": "markdown",
   "metadata": {},
   "source": [
    "Now, change the line `nProc = 2` above so we use more parallel processors. Increase by 1 or 2 at a time. You may need a value of `nProc = 10` on a recent MacBook for example. Modify the code above to keep track of execution time by number of processes.\n",
    "\n",
    "What value of nProc produced the fastest time?  "
   ]
  },
  {
   "cell_type": "markdown",
   "metadata": {},
   "source": [
    "<span style=\"color:blue\">\n",
    "answer goes here... \n",
    " </span>"
   ]
  },
  {
   "cell_type": "code",
   "execution_count": 11,
   "metadata": {},
   "outputs": [
    {
     "name": "stdout",
     "output_type": "stream",
     "text": [
      "[284311, 443347]\n",
      "[35933, 338269]\n",
      "[238673, 418031]\n",
      "[181717, 242083]\n",
      "[86287, 492617]\n",
      "[86297, 325459]\n",
      "[205981, 249187]\n",
      "[349303, 394631]\n",
      "[51329, 227377]\n",
      "[59539, 231547]\n",
      "nProc= 1  Execution Time: 109.11861300468445\n",
      "[24023, 33349]\n",
      "[193649, 372901]\n",
      "[147097, 472573]\n",
      "[100363, 460903]\n",
      "[3673, 58567]\n",
      "[313241, 333539]\n",
      "[14887, 285421]\n",
      "[231827, 487363]\n",
      "[93997, 466273]\n",
      "[27917, 471503]\n",
      "nProc= 2  Execution Time: 59.60853815078735\n",
      "[21563, 259163]\n",
      "[197269, 279967]\n",
      "[223019, 309293]\n",
      "[324893, 389047]\n",
      "[271, 254753]\n",
      "[181003, 336997]\n",
      "[46591, 392963]\n",
      "[18719, 73459]\n",
      "[445433, 478343]\n",
      "[181669, 395891]\n",
      "[191249, 254699]\n",
      "[38609, 287887]\n",
      "nProc= 3  Execution Time: 44.25856828689575\n",
      "[90749, 258109]\n",
      "[163171, 452027]\n",
      "[233279, 420323]\n",
      "[286673, 462947]\n",
      "[17467, 63029]\n",
      "[41221, 100291]\n",
      "[211151, 222199]\n",
      "[125821, 168863]\n",
      "[52489, 297797]\n",
      "[155027, 281023]\n",
      "[165811, 272359]\n",
      "[4441, 270719]\n",
      "nProc= 4  Execution Time: 36.79765295982361\n",
      "[12277, 479431]\n",
      "[36277, 315373]\n",
      "[22003, 57383]\n",
      "[202981, 217207]\n",
      "[235057, 396299]\n",
      "[74609, 234907]\n",
      "[13313, 494023]\n",
      "[7547, 266683]\n",
      "[424997, 491677]\n",
      "[64919, 191537]\n",
      "nProc= 5  Execution Time: 38.28595519065857\n",
      "[9377, 345259]\n",
      "[41269, 146513]\n",
      "[79697, 484123]\n",
      "[210101, 258637]\n",
      "[219071, 296843]\n",
      "[340297, 455921]\n",
      "[14177, 239389]\n",
      "[296047, 481549]\n",
      "[226129, 262271]\n",
      "[244901, 390961]\n",
      "[41357, 399727]\n",
      "[89393, 91183]\n",
      "nProc= 6  Execution Time: 38.49188184738159\n",
      "[3079, 150587]\n",
      "[70841, 139361]\n",
      "[67807, 433079]\n",
      "[58921, 494441]\n",
      "[133039, 440987]\n",
      "[129587, 392279]\n",
      "[176047, 361643]\n",
      "[280949, 384497]\n",
      "[13829, 318629]\n",
      "[1697, 106537]\n",
      "[312023, 353783]\n",
      "[41981, 154591]\n",
      "[26863, 187631]\n",
      "[24977, 232819]\n",
      "nProc= 7  Execution Time: 41.33573293685913\n",
      "[15583, 348241]\n",
      "[147319, 409861]\n",
      "[135799, 361271]\n",
      "[158617, 201653]\n",
      "[227743, 266993]\n",
      "[202931, 314723]\n",
      "[237737, 295387]\n",
      "[244403, 379927]\n",
      "[104309, 425783]\n",
      "[55337, 195809]\n",
      "[159079, 289031]\n",
      "[388099, 446263]\n",
      "[264359, 332489]\n",
      "[134867, 244091]\n",
      "[169789, 198833]\n",
      "[58789, 218531]\n",
      "nProc= 8  Execution Time: 41.799692153930664\n",
      "[46727, 67231]\n",
      "[89393, 405781]\n",
      "[71843, 495109]\n",
      "[73433, 115523]\n",
      "[57349, 295283]\n",
      "[158161, 385391]\n",
      "[158429, 233407]\n",
      "[223103, 401959]\n",
      "[242449, 292531]\n",
      "[165721, 323473]\n",
      "[231799, 279431]\n",
      "[64327, 161201]\n",
      "[36527, 38861]\n",
      "[314953, 420047]\n",
      "[28411, 381631]\n",
      "[122561, 386371]\n",
      "[238639, 242677]\n",
      "[104561, 236519]\n",
      "nProc= 9  Execution Time: 41.23146605491638\n",
      "[9511, 190207]\n",
      "[48409, 427859]\n",
      "[3539, 255653]\n",
      "[52697, 67493]\n",
      "[87119, 279919]\n",
      "[123979, 302123]\n",
      "[207409, 420557]\n",
      "[232171, 318137]\n",
      "[273059, 360779]\n",
      "[338867, 391067]\n",
      "nProc= 10  Execution Time: 42.01186013221741\n"
     ]
    }
   ],
   "source": [
    "# the number of concurrent processors to use\n",
    "#nProc = 10\n",
    "N= 3000\n",
    "# Now let's run it concurrently\n",
    "def executeProc():\n",
    "    # Each process is performing a fraction of the load\n",
    "    # so it has less numbers to factor\n",
    "    myN = N // nProc\n",
    "    for i in range(myN):\n",
    "        #rand = random.randint(20000, 100000000)\n",
    "        rand = random.choice(PRIMES) * random.choice(PRIMES) \n",
    "        \n",
    "        factors = calculatePrimeFactors(rand)\n",
    "        if (i % (myN // 10 * nProc) == 0):\n",
    "            print(factors)        \n",
    "            \n",
    "times = []            \n",
    "for j in range(1,11):\n",
    "    nProc = j\n",
    "    \n",
    "    t0 = time.time()\n",
    "    procs = []\n",
    "    # Here we create our processes and kick them off\n",
    "    for i in range(nProc):\n",
    "        proc = Process(target=executeProc, args=())\n",
    "        procs.append(proc)\n",
    "        proc.start()\n",
    "    # We use the .join() method in order to wait for\n",
    "    # execution to finish for all of our processes\n",
    "    for proc in procs:\n",
    "        proc.join()\n",
    "    t1 = time.time()\n",
    "    totalTime = t1 - t0\n",
    "    # we print out the total execution time for our 10\n",
    "    # procs.\n",
    "    times.append(totalTime)\n",
    "    print(\"nProc=\",nProc,\" Execution Time: {}\".format(totalTime))           "
   ]
  },
  {
   "cell_type": "code",
   "execution_count": 22,
   "metadata": {},
   "outputs": [
    {
     "data": {
      "text/plain": [
       "[109.11861300468445,\n",
       " 59.60853815078735,\n",
       " 44.25856828689575,\n",
       " 36.79765295982361,\n",
       " 38.28595519065857,\n",
       " 38.49188184738159,\n",
       " 41.33573293685913,\n",
       " 41.799692153930664,\n",
       " 41.23146605491638,\n",
       " 42.01186013221741]"
      ]
     },
     "execution_count": 22,
     "metadata": {},
     "output_type": "execute_result"
    }
   ],
   "source": [
    "times"
   ]
  },
  {
   "cell_type": "markdown",
   "metadata": {},
   "source": [
    "<span style=\"color:blue\">\n",
    "Here I selected N=3000 (to avoid the noise of other processes running on my machine) and nProc=10. As expected the fastest time is when nProc=4.\n",
    "</span>"
   ]
  },
  {
   "cell_type": "markdown",
   "metadata": {},
   "source": [
    "### 2.4 - Plotting and Interpretation\n",
    "\n",
    "(a) Plot the execution time vs number of processes from 1 to nProc + 4 (ie. if nProc == 10 was optimal, plot from 1 to 14 processes). "
   ]
  },
  {
   "cell_type": "code",
   "execution_count": 16,
   "metadata": {},
   "outputs": [
    {
     "data": {
      "image/png": "[encoded data removed]",
      "text/plain": [
       "<matplotlib.figure.Figure at 0x10a749f28>"
      ]
     },
     "metadata": {},
     "output_type": "display_data"
    }
   ],
   "source": [
    "%matplotlib inline\n",
    "import matplotlib.pyplot as plt\n",
    "\n",
    "x = np.arange(1,9)\n",
    "exec_time = times[0:8]\n",
    "\n",
    "plt.plot(x,exec_time);\n",
    "plt.xlabel('#Processors')\n",
    "plt.ylabel('Time taken');"
   ]
  },
  {
   "cell_type": "markdown",
   "metadata": {},
   "source": [
    "(b) According to your OS's CPU monitor, were all cores in use?"
   ]
  },
  {
   "cell_type": "markdown",
   "metadata": {},
   "source": [
    "<span style=\"color:blue\">\n",
    "All cores, including virtual cores should have been in use. \n",
    " </span>"
   ]
  },
  {
   "cell_type": "markdown",
   "metadata": {},
   "source": [
    "(c) Why was this optimal based on the number of cores that you have? Why does a higher number of processes not speed things up? How many physical cores do you suspect your machine has vs the number reported by `cpu_count()` in 2.1?"
   ]
  },
  {
   "cell_type": "markdown",
   "metadata": {},
   "source": [
    "<span style=\"color:blue\">\n",
    "Attempting to parallelize for more than the supplied hardware only adds overhead and does not reduce computation time.  My machine has 4 physical cores (System Report on MacOS), where as cpu_count() reports 8. This is because there are 8 logical processors. \n",
    " </span>"
   ]
  },
  {
   "cell_type": "markdown",
   "metadata": {},
   "source": [
    "### Part 3 - AC209 Problem\n",
    "\n",
    "Implement prime factorization using `numpy`.\n",
    "\n",
    "Hint: the book Numpy Cookbook available through Hollis may help you.\n",
    "\n",
    "Use your function and the same number of `N` sequential cases as above. Time the result.\n",
    "\n",
    "* How long did numpy take vs the sequential and parallel versions?\n",
    "* Was your implementation faster than numpy?\n",
    "* Was numpy using multiple cores or not?\n",
    "\n",
    "**For all students:**\n",
    "Don't forget to post your results to  [https://goo.gl/forms/EVrnxj2pzndZvNX22](https://goo.gl/forms/EVrnxj2pzndZvNX22)"
   ]
  },
  {
   "cell_type": "code",
   "execution_count": 19,
   "metadata": {},
   "outputs": [
    {
     "name": "stdout",
     "output_type": "stream",
     "text": [
      "Execution Time: 41.503756046295166\n"
     ]
    }
   ],
   "source": [
    "LIM = 10 ** 6\n",
    "\n",
    "def factor(n):\n",
    "   #1. Create array of trial values\n",
    "    a = np.ceil(np.sqrt(n))\n",
    "    lim = min(n, LIM)\n",
    "    a = np.arange(a, a + lim)\n",
    "    b2 = a ** 2 - n\n",
    "\n",
    "    #2. Check whether b is a square\n",
    "    fractions = np.modf(np.sqrt(b2))[0]\n",
    "\n",
    "    #3. Find 0 fractions\n",
    "    indices = np.where(fractions == 0)\n",
    "\n",
    "    #4. Find the first occurrence of a 0 fraction\n",
    "    a = np.ravel(np.take(a, indices))[0]\n",
    "              # Or a = a[indices][0]\n",
    "\n",
    "    a = int(a)\n",
    "    b = np.sqrt(a ** 2 - n) \n",
    "    b = int(b)\n",
    "    c = a + b\n",
    "    d = a - b\n",
    "\n",
    "    if c == 1 or d == 1:\n",
    "        return  \n",
    "\n",
    "    #print(c, d)\n",
    "    return(c,d)\n",
    "    factor(c)\n",
    "    factor(d)\n",
    "\n",
    "\n",
    "t0 = time.time()\n",
    "list2 = []\n",
    "for i in range(N):\n",
    "    rand = random.choice(PRIMES) * random.choice(PRIMES) \n",
    "    x = factor(rand)\n",
    "    if x is not None:\n",
    "        list2.append(x)\n",
    "\n",
    "t1 = time.time()\n",
    "totalTime = t1 - t0\n",
    "print(\"Execution Time: {}\".format(totalTime))   "
   ]
  },
  {
   "cell_type": "markdown",
   "metadata": {},
   "source": [
    "<span style=\"color:blue\">\n",
    "Numpy Implementation took - 41.50 seconds,  <BR/> \n",
    "For sequential processing it took - 109.12 seconds, <BR/> \n",
    "For nProc = 4 (our fastest) it took - 36.8, seconds,<BR/>\n",
    "For all of the above N=3000<BR/>\n",
    "Numpy implementation is certainly better than sequential processing. Numpy does seem to utlize multiple cores. \n",
    " </span>\n",
    " "
   ]
  },
  {
   "cell_type": "code",
   "execution_count": null,
   "metadata": {
    "collapsed": true
   },
   "outputs": [],
   "source": []
  }
 ],
 "metadata": {
  "kernelspec": {
   "display_name": "Python 3",
   "language": "python",
   "name": "python3"
  },
  "language_info": {
   "codemirror_mode": {
    "name": "ipython",
    "version": 3
   },
   "file_extension": ".py",
   "mimetype": "text/x-python",
   "name": "python",
   "nbconvert_exporter": "python",
   "pygments_lexer": "ipython3",
   "version": "3.6.2"
  }
 },
 "nbformat": 4,
 "nbformat_minor": 2
}
